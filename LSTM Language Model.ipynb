{
 "cells": [
  {
   "cell_type": "markdown",
   "metadata": {},
   "source": [
    "Build a simple Sequential Model from an LSTM. \n",
    "\n",
    "* Given a sequence of n-grams, the classifier predicts the following token as a class. \n",
    "* The input of the neural network is an array of sequences of tokens for the design matrix and the output a vector of labels that corresponds to the target token.\n"
   ]
  },
  {
   "cell_type": "code",
   "execution_count": null,
   "metadata": {},
   "outputs": [],
   "source": []
  },
  {
   "cell_type": "markdown",
   "metadata": {},
   "source": [
    "### Motivation\n",
    "\n",
    "In the case of the n-gram language model, we used the probability of each n-gram in the input sentence to calculate the perplexity. Our current model does not rely on n-grams, but on probabilities of sequences of tokens to be followed by a subsequent token. We need to adapt the perplexity formula for n-grams language models to sequence-based language models.\n",
    "\n",
    "If we consider the sentence of N tokens:\n",
    "\n",
    "$$w_{1},\\cdots, w_N$$\n",
    "\n",
    "Then we can calculate the probability of that sentence as the product of probabilities of all the padded subsequences. Let’s take an example of a 3-token sentence.\n",
    "\n",
    "$$ P(w_1,w_2, w_3) =  P(w_3 | w_1, w_2) \\times p(w_2 | w_1 ,0)  \\times p(w_1 | 0 ,0) $$\n",
    "\n",
    "In general, for a sentence of N tokens and a sequence length of length S,\n",
    "\n",
    "$$ P(w_1,\\cdots, w_N) = \\prod_{k = 1}^{ \\max{(N,S)}} P(w_k | \\text{padded}_S(w_{1}, \\cdots, w_{k-1})    )  $$\n",
    "\n",
    "where $ P(w_{k} | \\text{padded}_S(w_{1}, \\cdots, w_{k-1}) $ is precisely the probability given by the classification model.\n",
    "\n",
    "We can therefore compute the perplexity of a sentence of length N with\n",
    "\n",
    "$$PP(w_{1},\\cdots, w_N) = \\exp [ - \\frac{1}{N} {\\sum_{i = 1}^{ \\max{(N,S)} } \\log { P(w_{k} | \\text{padded}_S(w_{1}, \\cdots, w_{k-1}) } } ) ]$$"
   ]
  },
  {
   "cell_type": "markdown",
   "metadata": {},
   "source": [
    "### Workflow\n",
    "\n",
    "#### Preparing the data\n",
    "\n",
    "1. Load the dataset that was prepared in task 1.\n",
    "2. The original dataset is too large and needs to be reduced. To reduce it, you can, for instance,\n",
    "   + filter out items that have too many or too little tokens,\n",
    "   + select items of a certain type: post, comments, or titles, or\n",
    "   + or sub sample items randomly.\n",
    "3. Build the vocabulary as the set of all unique tokens to construct the list of token indexes.\n",
    "  + Filtering on token frequency is one way to reduce the overall size of the vocabulary.\n",
    "4. Set a fixed sequence length and build sequences of token indexes from the corpus. (See for instance keras pad_sequences.)\n",
    "5. Split the sequences into predictors and labels (`keras.utils.to_categorical`)\n",
    "\n",
    "#### The model\n",
    "\n",
    "The data is now ready to be used to fit a neural network.\n",
    "\n",
    "1. Define a simple sequential model with an embedding layer, LSTM(s), and a dense layer with softmax activation. Feel free to experiment with dropouts, different optimizers. You can use any type of neural net you want; for example, Keras, TensorFlow, PyTorch, and so on.\n",
    "2. Specify the number of epochs, the batch size, and other fitting parameters.\n",
    "3. Fit the network.\n",
    "\n",
    "#### Assessing the results\n",
    "\n",
    "1. Write a function that generates text.\n",
    "2. Generate some text and take note of:\n",
    "  - Token repetitions\n",
    "  - Missing punctuations\n",
    "  - Other anomalies\n",
    "3. Write a function that calculates **perplexity of a sentence** and apply it to a subset of sentences to evaluate the model.\n",
    "4. Define a validation set; for instance, 1000 titles.\n",
    "5. Transform that validation set into sequences of tokens using the training vocabulary.\n",
    "6. Tune the neural net and the parameters of the preprocessing phase to improve the model’s perplexity score."
   ]
  },
  {
   "cell_type": "markdown",
   "metadata": {},
   "source": [
    "#### References\n",
    "\n",
    "Fast.ai 2019\n",
    "\n",
    "* Lesson 4\n",
    "  - NLP classification - https://github.com/fastai/course-v3/blob/master/nbs/dl1/lesson3-imdb.ipynb\n",
    "  - https://youtu.be/qqt3aMPB81c?t=1038\n",
    "  - What's an Embedding - https://www.youtube.com/watch?v=GK1XhPM3K0g&feature=youtu.be&t=540\n",
    "    - project something into a higher dimensional space. int(s) -> vector of floats. \n",
    "* Lesson 12 (video snippets in the noteook.\n",
    "  - Preparing Text - https://github.com/fastai/course-v3/blob/master/nbs/dl2/12_text.ipynb\n",
    "  - AWD LSTM - https://github.com/fastai/course-v3/blob/master/nbs/dl2/12a_awd_lstm.ipynb\n",
    "  - Read in Wikitext to train LM - https://github.com/fastai/course-v3/blob/master/nbs/dl2/12b_lm_pretrain.ipynb\n",
    "  - UMLFIT - https://github.com/fastai/course-v3/blob/master/nbs/dl2/12c_ulmfit.ipynb\n",
    "\n",
    "When to reset or repackage the hidden state?\n",
    "  - Concept: stateless or stateful RNNs (this was a Keras thing)\n",
    "  - repackage / detach hidden weight tensors\n",
    "    - https://discuss.pytorch.org/t/solved-why-we-need-to-detach-variable-which-contains-hidden-representation/1426\n",
    "    - https://github.com/pytorch/examples/blob/master/word_language_model/main.py#L112\n",
    "    - deeplearning.ai lecture - https://www.youtube.com/watch?v=esgbmJ6SnSY\n",
    "\n",
    "Fast.ai 2018\n",
    "\n",
    "* https://forums.fast.ai/t/wiki-lesson-4/9402 (Intro NLP lesson)\n",
    "* https://forums.fast.ai/t/wiki-lesson-6/9404 (Follow up NLP lesson)\n",
    "* https://forums.fast.ai/t/wiki-lesson-7/9405 (Build Char RNN from scratch)\n",
    "  - repackage / state - https://youtu.be/H3g26EVADgY?t=660\n",
    "    + part of my confusion from what bptt means comes from this clip. He states that detaching is part of bptt. Not sure the are truly related. \n",
    "\n",
    "\n",
    "### RNN Notes\n",
    "\n",
    "* BPTT - backprop through time.  When you calculate the gradients the hidden activations (hidden state produced by the hidden layer) understand that it's loop over itself from the last input to the first. Therefore the computation graph grows linearly with each forward pass. To prevent vanishing gradients and not have a very large slow computation you need to `detach()` the hidden state from the computational graph. \n",
    "* sequence length - how long of a sequence the RNN will process when it processes a mini-batch. This is often the same size as BPTT but it doesn't have to be.  If you want to capture the loss of all inputs from the sequence in the minibatch then BPTT > seq_len \n"
   ]
  },
  {
   "cell_type": "markdown",
   "metadata": {},
   "source": [
    "### Preparing the data"
   ]
  },
  {
   "cell_type": "code",
   "execution_count": 1,
   "metadata": {},
   "outputs": [],
   "source": [
    "import pandas as pd"
   ]
  },
  {
   "cell_type": "code",
   "execution_count": 2,
   "metadata": {},
   "outputs": [],
   "source": [
    "TOK_FILE= 'stackexchange_tokenized.csv'\n",
    "df = pd.read_csv(f'data/{TOK_FILE}')"
   ]
  },
  {
   "cell_type": "code",
   "execution_count": 3,
   "metadata": {},
   "outputs": [],
   "source": [
    "# Specify the number of epochs, the batch size, and other fitting parameters\n",
    "\n",
    "seq_len = 50\n",
    "vocab_size = 4000\n",
    "embedding_dim = 200\n",
    "hidden_dim = 40\n",
    "batch_size = 15\n",
    "epochs = 25"
   ]
  },
  {
   "cell_type": "code",
   "execution_count": 4,
   "metadata": {},
   "outputs": [
    {
     "data": {
      "text/html": [
       "<div>\n",
       "<style scoped>\n",
       "    .dataframe tbody tr th:only-of-type {\n",
       "        vertical-align: middle;\n",
       "    }\n",
       "\n",
       "    .dataframe tbody tr th {\n",
       "        vertical-align: top;\n",
       "    }\n",
       "\n",
       "    .dataframe thead th {\n",
       "        text-align: right;\n",
       "    }\n",
       "</style>\n",
       "<table border=\"1\" class=\"dataframe\">\n",
       "  <thead>\n",
       "    <tr style=\"text-align: right;\">\n",
       "      <th></th>\n",
       "      <th>Unnamed: 0</th>\n",
       "      <th>post_id</th>\n",
       "      <th>parent_id</th>\n",
       "      <th>comment_id</th>\n",
       "      <th>text</th>\n",
       "      <th>category</th>\n",
       "      <th>length</th>\n",
       "      <th>tokenized</th>\n",
       "    </tr>\n",
       "  </thead>\n",
       "  <tbody>\n",
       "    <tr>\n",
       "      <th>0</th>\n",
       "      <td>0</td>\n",
       "      <td>1</td>\n",
       "      <td>NaN</td>\n",
       "      <td>NaN</td>\n",
       "      <td>Eliciting priors from experts</td>\n",
       "      <td>title</td>\n",
       "      <td>29</td>\n",
       "      <td>Eliciting priors from experts</td>\n",
       "    </tr>\n",
       "    <tr>\n",
       "      <th>1</th>\n",
       "      <td>1</td>\n",
       "      <td>2</td>\n",
       "      <td>NaN</td>\n",
       "      <td>NaN</td>\n",
       "      <td>What is normality?</td>\n",
       "      <td>title</td>\n",
       "      <td>18</td>\n",
       "      <td>What is normality ?</td>\n",
       "    </tr>\n",
       "    <tr>\n",
       "      <th>2</th>\n",
       "      <td>2</td>\n",
       "      <td>3</td>\n",
       "      <td>NaN</td>\n",
       "      <td>NaN</td>\n",
       "      <td>What are some valuable Statistical Analysis op...</td>\n",
       "      <td>title</td>\n",
       "      <td>65</td>\n",
       "      <td>What are some valuable Statistical Analysis op...</td>\n",
       "    </tr>\n",
       "    <tr>\n",
       "      <th>3</th>\n",
       "      <td>3</td>\n",
       "      <td>4</td>\n",
       "      <td>NaN</td>\n",
       "      <td>NaN</td>\n",
       "      <td>Assessing the significance of differences in d...</td>\n",
       "      <td>title</td>\n",
       "      <td>58</td>\n",
       "      <td>Assessing the significance of differences in d...</td>\n",
       "    </tr>\n",
       "    <tr>\n",
       "      <th>4</th>\n",
       "      <td>4</td>\n",
       "      <td>6</td>\n",
       "      <td>NaN</td>\n",
       "      <td>NaN</td>\n",
       "      <td>The Two Cultures: statistics vs. machine learn...</td>\n",
       "      <td>title</td>\n",
       "      <td>50</td>\n",
       "      <td>The Two Cultures : statistics vs. machine lear...</td>\n",
       "    </tr>\n",
       "  </tbody>\n",
       "</table>\n",
       "</div>"
      ],
      "text/plain": [
       "   Unnamed: 0  post_id  parent_id  comment_id  \\\n",
       "0           0        1        NaN         NaN   \n",
       "1           1        2        NaN         NaN   \n",
       "2           2        3        NaN         NaN   \n",
       "3           3        4        NaN         NaN   \n",
       "4           4        6        NaN         NaN   \n",
       "\n",
       "                                                text category  length  \\\n",
       "0                      Eliciting priors from experts    title      29   \n",
       "1                                 What is normality?    title      18   \n",
       "2  What are some valuable Statistical Analysis op...    title      65   \n",
       "3  Assessing the significance of differences in d...    title      58   \n",
       "4  The Two Cultures: statistics vs. machine learn...    title      50   \n",
       "\n",
       "                                           tokenized  \n",
       "0                      Eliciting priors from experts  \n",
       "1                                What is normality ?  \n",
       "2  What are some valuable Statistical Analysis op...  \n",
       "3  Assessing the significance of differences in d...  \n",
       "4  The Two Cultures : statistics vs. machine lear...  "
      ]
     },
     "execution_count": 4,
     "metadata": {},
     "output_type": "execute_result"
    }
   ],
   "source": [
    "df.head()\n"
   ]
  },
  {
   "cell_type": "code",
   "execution_count": 5,
   "metadata": {},
   "outputs": [
    {
     "data": {
      "text/plain": [
       "6473328"
      ]
     },
     "execution_count": 5,
     "metadata": {},
     "output_type": "execute_result"
    }
   ],
   "source": [
    "df.size"
   ]
  },
  {
   "cell_type": "code",
   "execution_count": 64,
   "metadata": {},
   "outputs": [
    {
     "data": {
      "text/plain": [
       "11136"
      ]
     },
     "execution_count": 64,
     "metadata": {},
     "output_type": "execute_result"
    }
   ],
   "source": [
    "df[df['length'] > 4000].size"
   ]
  },
  {
   "cell_type": "code",
   "execution_count": 17,
   "metadata": {},
   "outputs": [
    {
     "data": {
      "text/plain": [
       "array([[<matplotlib.axes._subplots.AxesSubplot object at 0x7fb3fedc1080>]],\n",
       "      dtype=object)"
      ]
     },
     "execution_count": 17,
     "metadata": {},
     "output_type": "execute_result"
    },
    {
     "data": {
      "image/png": "[encoded data removed]",
      "text/plain": [
       "<Figure size 432x288 with 1 Axes>"
      ]
     },
     "metadata": {
      "needs_background": "light"
     },
     "output_type": "display_data"
    }
   ],
   "source": [
    "%matplotlib inline\n",
    "\n",
    "df2 = df[df['length'] < 4000]\n",
    "df2.hist(column=\"length\", bins=100)"
   ]
  },
  {
   "cell_type": "code",
   "execution_count": 21,
   "metadata": {},
   "outputs": [
    {
     "data": {
      "text/plain": [
       "array([[<matplotlib.axes._subplots.AxesSubplot object at 0x7fb3fb338908>]],\n",
       "      dtype=object)"
      ]
     },
     "execution_count": 21,
     "metadata": {},
     "output_type": "execute_result"
    },
    {
     "data": {
      "image/png": "[encoded data removed]",
      "text/plain": [
       "<Figure size 432x288 with 1 Axes>"
      ]
     },
     "metadata": {
      "needs_background": "light"
     },
     "output_type": "display_data"
    },
    {
     "data": {
      "image/png": "[encoded data removed]",
      "text/plain": [
       "<Figure size 432x288 with 1 Axes>"
      ]
     },
     "metadata": {
      "needs_background": "light"
     },
     "output_type": "display_data"
    },
    {
     "data": {
      "image/png": "[encoded data removed]",
      "text/plain": [
       "<Figure size 432x288 with 1 Axes>"
      ]
     },
     "metadata": {
      "needs_background": "light"
     },
     "output_type": "display_data"
    }
   ],
   "source": [
    "df_post = df[df['category'] == 'post']\n",
    "df_title = df[df['category'] == 'title']\n",
    "df_comment = df[df['category'] == 'comment']\n",
    "\n",
    "df_post.hist(column=\"length\", bins=100)\n",
    "df_comment.hist(column=\"length\", bins=100)\n",
    "df_title.hist(column=\"length\", bins=100)\n",
    "\n",
    "# note that only posts have a long tail that get huge. \n",
    "# I would expect phrases to appear differently in long and short text. \n"
   ]
  },
  {
   "cell_type": "code",
   "execution_count": null,
   "metadata": {},
   "outputs": [],
   "source": [
    "# reduce the dataset\n"
   ]
  },
  {
   "cell_type": "code",
   "execution_count": null,
   "metadata": {},
   "outputs": [],
   "source": [
    "# build the vocabularly from the set of unique tokens"
   ]
  },
  {
   "cell_type": "markdown",
   "metadata": {},
   "source": [
    "#### Fastai v1\n",
    "\n",
    "Letting Fast.ai do the tokenizing and numericalizing\n",
    "\n",
    "https://youtu.be/vnOpEwmtFJ8?t=5080"
   ]
  },
  {
   "cell_type": "code",
   "execution_count": 8,
   "metadata": {},
   "outputs": [],
   "source": [
    "from fastai.text import *"
   ]
  },
  {
   "cell_type": "code",
   "execution_count": 9,
   "metadata": {},
   "outputs": [
    {
     "name": "stdout",
     "output_type": "stream",
     "text": [
      "CPU times: user 15.6 s, sys: 1.81 s, total: 17.4 s\n",
      "Wall time: 53.2 s\n"
     ]
    }
   ],
   "source": [
    "%%time\n",
    "\n",
    "# TODO: consider a better way to combine values in the dataset. \n",
    "# Instead of just using text could you combine text and title? \n",
    "\n",
    "# if we use fast.ai we could do this\n",
    "tokenizer = Tokenizer()\n",
    "texts  = df['text'].values\n",
    "tokens = tokenizer.process_all(texts)\n",
    "\n",
    "#create tokens from a list of lists of tokens.  https://bit.ly/31xOsvf\n",
    "vocab = Vocab.create(tokens, max_vocab=vocab_size, min_freq=2)\n"
   ]
  },
  {
   "cell_type": "code",
   "execution_count": 10,
   "metadata": {},
   "outputs": [],
   "source": [
    "ntokens = [ vocab.numericalize(ta) for ta in tokens ] "
   ]
  },
  {
   "cell_type": "code",
   "execution_count": 21,
   "metadata": {},
   "outputs": [
    {
     "name": "stdout",
     "output_type": "stream",
     "text": [
      "CPU times: user 17.4 s, sys: 383 ms, total: 17.8 s\n",
      "Wall time: 17.8 s\n"
     ]
    }
   ],
   "source": [
    "%%time\n",
    "\n",
    "ntok_tensors = [ torch.tensor(tka).type(torch.int64) for tka in ntokens ]\n",
    "\n",
    "\n"
   ]
  },
  {
   "cell_type": "code",
   "execution_count": 22,
   "metadata": {},
   "outputs": [
    {
     "data": {
      "text/plain": [
       "tensor([   5,  371,   45,  794,   79,    5, 1679, 1578,   30,  147,   35,  818,\n",
       "          44,  286,   40,   26])"
      ]
     },
     "execution_count": 22,
     "metadata": {},
     "output_type": "execute_result"
    }
   ],
   "source": [
    "ntok_tensors[7]"
   ]
  },
  {
   "cell_type": "code",
   "execution_count": 23,
   "metadata": {},
   "outputs": [],
   "source": [
    "ntok_tsr = torch.cat(ntok_tensors) #1D tensor. \n"
   ]
  },
  {
   "cell_type": "code",
   "execution_count": null,
   "metadata": {},
   "outputs": [],
   "source": [
    "# pick the right fixed sequence length\n"
   ]
  },
  {
   "cell_type": "code",
   "execution_count": 26,
   "metadata": {},
   "outputs": [],
   "source": [
    "# split into training and test.\n",
    "\n",
    "from sklearn.model_selection import train_test_split\n",
    "\n",
    "\n",
    "corp_size = ntok_tsr.shape[0]\n",
    "indxs     = np.arange(corp_size)\n",
    "train_i, test_i = train_test_split(indxs, test_size=0.4, random_state=42)  \n",
    "test_i, valid_i = train_test_split(test_i, test_size=0.5, random_state=42)\n",
    "\n",
    "train_tsr = torch.gather(ntok_tsr, 0, torch.tensor(train_i))\n",
    "test_tsr  = torch.gather(ntok_tsr, 0, torch.tensor(test_i))\n",
    "valid_tsr = torch.gather(ntok_tsr, 0, torch.tensor(valid_i))\n",
    "\n"
   ]
  },
  {
   "cell_type": "code",
   "execution_count": 28,
   "metadata": {},
   "outputs": [],
   "source": [
    "# split the sequence into predictors and labels\n",
    "\n",
    "\n",
    "\n",
    "# copied from https://bit.ly/2VyEJBa\n",
    "\n",
    "#expects a 1D tensor (all training, test, validation data) and a batch size. \n",
    "def batchify(data, bsz):\n",
    "    # Work out how cleanly we can divide the dataset into bsz parts.\n",
    "    nbatch = data.size(0) // bsz\n",
    "    # Trim off any extra elements that wouldn't cleanly fit (remainders).\n",
    "    data = data.narrow(0, 0, nbatch * bsz)\n",
    "    # Evenly divide the data across the bsz batches.\n",
    "    data = data.view(bsz, -1).t().contiguous()\n",
    "    #return data.to(device)\n",
    "    return data\n",
    "    \n",
    "def get_batch(source, i):\n",
    "    #seq_len = min(args.bptt, len(source) - 1 - i)\n",
    "    seq_len = len(source) - 1 - i\n",
    "    data = source[i:i+seq_len]\n",
    "    #target = source[i+1:i+1+seq_len].view(-1) #TODO: why reshape this? probably easier to run loss function. \n",
    "    target = source[i+1:i+1+seq_len]\n",
    "    return data, target\n",
    "\n",
    "\n",
    "### Notes:\n",
    "# example code has bptt as the sequence length\n",
    "# example code grabs bptt / seq_len rows at a time when processing a batch. Makes sense but feels strange\n",
    "# Question: does the example code ever reset the hidden weights? I don't think so. \n",
    "# - I would have thought this is where bptt would have hppened. \n",
    "# - alternatively you should reset at some point in `forward` https://bit.ly/2NNEY76\n",
    "\n",
    "# Do you want to create a dataloader or not? It could wrap a dataset with \"tokens\" variable.\n",
    "# see collate_fn, shuffle and batch_sampler arguments. \n",
    "# UPDATE: lots of interesting ideas in fast.ai \n",
    "# - create a collate_fn function that pads things - https://youtu.be/vnOpEwmtFJ8?t=6245 (fast.ai)\n",
    "# - create samplers that orders data for batching by size (or roughly by size)\n",
    "# - do batchify when you create a dataset. \n",
    "# - example dataset - https://youtu.be/vnOpEwmtFJ8?t=5786"
   ]
  },
  {
   "cell_type": "code",
   "execution_count": 49,
   "metadata": {},
   "outputs": [],
   "source": [
    "\n",
    "# there wasn't a really good reason to write this. You could get away without it.  \n",
    "class LMDataset(Dataset):\n",
    "    \n",
    "    def __init__(self, data, bsz, seq_len):\n",
    "        \"\"\"\n",
    "        Parameters:\n",
    "        data (Tensor): Rank 1 tensor with all numericalized data in it.     \n",
    "        \"\"\"\n",
    "        self.by_batch = batchify(data, bsz) \n",
    "        self.data = data\n",
    "        self.batch_size = bsz\n",
    "        self.seq_len = seq_len\n",
    "        \n",
    "    def __getitem__(self, idx):\n",
    "        #TODO: it probably would be faster to just index into the 1D array. \n",
    "        xi = (idx * self.batch_size) %  self.by_batch.shape[0]\n",
    "        yi = (idx * self.batch_size) // self.by_batch.shape[0]\n",
    "        print(self.by_batch.shape)\n",
    "        source = self.by_batch[xi:xi+self.seq_len, yi]\n",
    "        target = self.by_batch[xi+1:xi+self.seq_len+1, yi]\n",
    "        return source, target\n",
    "        \n",
    "    #TODO: do you want to copy the batching function in here? \n",
    "    #remove this? \n",
    "    def get_batch(self):\n",
    "        pass\n",
    "\n",
    "\n",
    "# LEFT OFF HERE.  If you want to create the dataloader you set shuffle to false and just instantiate one.      "
   ]
  },
  {
   "cell_type": "code",
   "execution_count": 50,
   "metadata": {},
   "outputs": [],
   "source": [
    "lmd = LMDataset(test_tsr, batch_size, seq_len)"
   ]
  },
  {
   "cell_type": "code",
   "execution_count": 51,
   "metadata": {},
   "outputs": [
    {
     "name": "stdout",
     "output_type": "stream",
     "text": [
      "torch.Size([764706, 15])\n"
     ]
    },
    {
     "data": {
      "text/plain": [
       "(tensor([   0,   97,  966,   17,    5, 3125,  167, 1024,   13,   13,   64,   25,\n",
       "          804,    5,  867,  113,    0,    9, 3443,  628,   35,    9,   38,  804,\n",
       "          263,   13,  374,   20,   18,    5, 1429,    5,   60,  240,   13,   24,\n",
       "          355,   29,   88,   45,  339,  516,    0,   60,  436,  261,    0,   10,\n",
       "           15,    5]),\n",
       " tensor([  97,  966,   17,    5, 3125,  167, 1024,   13,   13,   64,   25,  804,\n",
       "            5,  867,  113,    0,    9, 3443,  628,   35,    9,   38,  804,  263,\n",
       "           13,  374,   20,   18,    5, 1429,    5,   60,  240,   13,   24,  355,\n",
       "           29,   88,   45,  339,  516,    0,   60,  436,  261,    0,   10,   15,\n",
       "            5,   13]))"
      ]
     },
     "execution_count": 51,
     "metadata": {},
     "output_type": "execute_result"
    }
   ],
   "source": [
    "lmd[3]"
   ]
  },
  {
   "cell_type": "markdown",
   "metadata": {},
   "source": [
    "### The model"
   ]
  },
  {
   "cell_type": "code",
   "execution_count": 44,
   "metadata": {},
   "outputs": [],
   "source": [
    "# define the model"
   ]
  },
  {
   "cell_type": "code",
   "execution_count": 45,
   "metadata": {},
   "outputs": [],
   "source": [
    "import torch\n",
    "import torch.nn as nn\n",
    "import torch.nn.functional as F\n"
   ]
  },
  {
   "cell_type": "code",
   "execution_count": 46,
   "metadata": {},
   "outputs": [],
   "source": [
    "%load_ext autoreload\n",
    "%autoreload 2\n",
    "\n",
    "from rnn_model import *"
   ]
  },
  {
   "cell_type": "code",
   "execution_count": 47,
   "metadata": {},
   "outputs": [],
   "source": [
    "### https://pytorch.org/tutorials/beginner/nlp/sequence_models_tutorial.html\n",
    "### views in pytorch - https://pytorch.org/docs/stable/tensors.html#torch.Tensor.view\n",
    "### Maybe skip this one - https://gist.github.com/williamFalcon/f27c7b90e34b4ba88ced042d9ef33edd\n",
    "### https://pytorch.org/docs/master/generated/torch.nn.LSTM.html\n",
    "### https://github.com/pytorch/examples/tree/master/word_language_model\n",
    "### https://stackoverflow.com/a/42482819 reshaping tensors with \"view\"\n",
    "### https://medium.com/@lankinen/fast-ai-lesson-12-notes-part-2-v3-dd53bec89c0b\n",
    "### - https://www.youtube.com/watch?v=vnOpEwmtFJ8&feature=emb_title\n",
    "\n",
    "\n",
    "class Net(nn.Module):\n",
    "    def __init__(self, seq_len, vocab_size, embedding_dim, hidden_dim): #TODO: DO I NEED THE seq_len here? Doubt it. \n",
    "        \n",
    "        super(Net, self).__init__()\n",
    "        self.vocab_size = vocab_size\n",
    "        self.word_embeddings = nn.Embedding(vocab_size, embedding_dim)\n",
    "        self.lstm =  nn.LSTM(embedding_dim, hidden_dim)\n",
    "        self.dense = nn.Linear(hidden_dim, vocab_size)\n",
    "        \n",
    "    def forward(self, x, hidden):\n",
    "        \n",
    "        # decide how/when to reset and share hidden params? Consider bptt approach. \n",
    "        # LEFT OFF HERE - when you process inputs...\n",
    "        # x - review \"batchify\" and \"get_batch\" from - https://bit.ly/2VyEJBa so that you understand how they batch data and get labeels, etc.\n",
    "        # x - in prepping data for language models, do you need to pad anything? \n",
    "        # x  I don't believe so. I think 'batchify' combines sentences together. See `data.view(bsz, -1).t().contiguous()`\n",
    "        # x - figure out how bptt is used in the pytorch LM example code.  Why is it used in get_batch to limit the size? \n",
    "        # x - UPDATE: is this is the right question to ask? Perhaps you're really asking when to reset the hidden state \n",
    "        #     and how `detach()` works.\n",
    "        #   - NOTE: in `tokenize` from the pytorch example language model they tokenize and numericalize and return a 1D\n",
    "        #     tensor of the entire test, training or validation set. \n",
    "        # - NOTE: you built your vocab and numericalized with fast.ai. How to combine data together? \n",
    "        \n",
    "        seq_len, batch_size = x.shape   \n",
    "        x = self.word_embeddings(x)\n",
    "        x, hidden = self.lstm(x, hidden) # -> (seq_len, batch_size, hidden_size)\n",
    "        x = self.dense(x)                # -> (seq_len, batch_size, vocab_size)\n",
    "        x = F.log_softmax(x, dim=2)  #update. Do you want to predict one new thing here instead of a whole bunch?\n",
    "        #TODO: you could detach and return a new hidden state here. This is fine if you want bptt to always be seq_len.\n",
    "        return x, hidden \n",
    "        \n",
    "        "
   ]
  },
  {
   "cell_type": "code",
   "execution_count": 48,
   "metadata": {},
   "outputs": [],
   "source": [
    "net = Net(seq_len, vocab_size, embedding_dim, hidden_dim)"
   ]
  },
  {
   "cell_type": "code",
   "execution_count": 49,
   "metadata": {},
   "outputs": [
    {
     "name": "stdout",
     "output_type": "stream",
     "text": [
      "torch.Size([50, 15])\n",
      "torch.Size([50, 15, 4000])\n"
     ]
    }
   ],
   "source": [
    "# run `forward` here to make sure that you have the expected dimensions for inputs and outputs.\n",
    "\n",
    "#fake input\n",
    "tsr = torch.randint(0,vocab_size, (seq_len, batch_size))\n",
    "print(tsr.shape)  \n",
    "\n",
    "out_tensor = net(tsr)\n",
    "print(out_tensor.shape) "
   ]
  },
  {
   "cell_type": "code",
   "execution_count": null,
   "metadata": {},
   "outputs": [],
   "source": [
    "# fit the model"
   ]
  },
  {
   "cell_type": "markdown",
   "metadata": {},
   "source": [
    "### Assessing the results"
   ]
  },
  {
   "cell_type": "code",
   "execution_count": null,
   "metadata": {},
   "outputs": [],
   "source": [
    "#Write a function that generates text."
   ]
  },
  {
   "cell_type": "code",
   "execution_count": null,
   "metadata": {},
   "outputs": [],
   "source": [
    "#Test the function for errors (missing text, punctuation, etc.)"
   ]
  },
  {
   "cell_type": "code",
   "execution_count": null,
   "metadata": {},
   "outputs": [],
   "source": [
    "# Calculate Perplexity"
   ]
  },
  {
   "cell_type": "code",
   "execution_count": null,
   "metadata": {},
   "outputs": [],
   "source": [
    "# Define a validation set; for instance, 1000 titles.\n",
    "\n",
    "# consider not holding out data when you generate your LM. Okay for unsupervised learning. \n",
    "# https://youtu.be/qqt3aMPB81c?t=1266"
   ]
  },
  {
   "cell_type": "code",
   "execution_count": null,
   "metadata": {},
   "outputs": [],
   "source": [
    "# Transform that validation set into sequences of tokens using the training vocabulary."
   ]
  },
  {
   "cell_type": "code",
   "execution_count": null,
   "metadata": {},
   "outputs": [],
   "source": [
    "# Tune the neural net and the parameters of the preprocessing phase to improve the model’s perplexity score."
   ]
  },
  {
   "cell_type": "markdown",
   "metadata": {},
   "source": [
    "#### Testing"
   ]
  },
  {
   "cell_type": "code",
   "execution_count": 11,
   "metadata": {},
   "outputs": [
    {
     "data": {
      "text/plain": [
       "torch.Size([2, 4, 30])"
      ]
     },
     "execution_count": 11,
     "metadata": {},
     "output_type": "execute_result"
    }
   ],
   "source": [
    "\n",
    "emb = nn.Embedding(400, 30)\n",
    "tsr = torch.LongTensor([[1,2,4,5],[4,3,2,9]])\n",
    "ts2 = emb(tsr)\n",
    "ts2.shape"
   ]
  },
  {
   "cell_type": "code",
   "execution_count": 16,
   "metadata": {},
   "outputs": [
    {
     "data": {
      "text/plain": [
       "tensor([[5, 6, 9, 7],\n",
       "        [3, 6, 8, 7],\n",
       "        [0, 8, 9, 0]])"
      ]
     },
     "execution_count": 16,
     "metadata": {},
     "output_type": "execute_result"
    }
   ],
   "source": [
    "#how to get random tensors that are integers\n",
    "torch.randint(0,10, (3,4,))"
   ]
  },
  {
   "cell_type": "code",
   "execution_count": 17,
   "metadata": {},
   "outputs": [],
   "source": [
    "# copied code from https://github.com/pytorch/examples/tree/master/word_language_model\n",
    "# testing model dimensions. \n",
    "rnn_lm = RNNModel('LSTM', vocab_size, seq_len, embedding_dim, 1, dropout=0)"
   ]
  },
  {
   "cell_type": "code",
   "execution_count": 19,
   "metadata": {},
   "outputs": [
    {
     "data": {
      "text/plain": [
       "torch.Size([750, 4000])"
      ]
     },
     "execution_count": 19,
     "metadata": {},
     "output_type": "execute_result"
    }
   ],
   "source": [
    "hidden = rnn_lm.init_hidden(batch_size)\n",
    "out_tensor, _ = rnn_lm(tsr, hidden)\n",
    "out_tensor.shape #same output size as my model. **update** they do this intentionally for easy loss calculations. "
   ]
  },
  {
   "cell_type": "code",
   "execution_count": 31,
   "metadata": {},
   "outputs": [
    {
     "data": {
      "text/plain": [
       "torch.Size([50, 15, 4000])"
      ]
     },
     "execution_count": 31,
     "metadata": {},
     "output_type": "execute_result"
    }
   ],
   "source": [
    "lstm_out = torch.randint(0,vocab_size, (seq_len, batch_size, vocab_size)).float()\n",
    "#rszd_out = lstm_out.view(seq_len, batch_size, -1) #this is a noop. \n",
    "rszd_out = F.softmax(rszd_out, dim=2) #removed log\n",
    "rszd_out.shape\n"
   ]
  },
  {
   "cell_type": "code",
   "execution_count": 32,
   "metadata": {},
   "outputs": [
    {
     "data": {
      "text/plain": [
       "tensor(1.0000)"
      ]
     },
     "execution_count": 32,
     "metadata": {},
     "output_type": "execute_result"
    }
   ],
   "source": [
    "#sanity check\n",
    "summed = torch.sum(rszd_out, dim=2)\n",
    "summed[0,0]"
   ]
  },
  {
   "cell_type": "code",
   "execution_count": 24,
   "metadata": {},
   "outputs": [
    {
     "data": {
      "text/plain": [
       "tensor([[[2152,  453, 2541, 3116],\n",
       "         [1831, 3638, 2561, 1046],\n",
       "         [1450, 2765, 3805, 1294]],\n",
       "\n",
       "        [[3281, 2037,  266, 3607],\n",
       "         [3907, 2355, 3675, 1584],\n",
       "         [3511, 2891, 3937, 2514]]])"
      ]
     },
     "execution_count": 24,
     "metadata": {},
     "output_type": "execute_result"
    }
   ],
   "source": [
    "torch.randint(0,vocab_size, (2, 3, 4))"
   ]
  },
  {
   "cell_type": "markdown",
   "metadata": {},
   "source": [
    "##### testing batchify and get_batch"
   ]
  },
  {
   "cell_type": "code",
   "execution_count": 29,
   "metadata": {},
   "outputs": [],
   "source": [
    "tsr  = torch.LongTensor([1,2,4,5,4,3,2,9, 3, 8, 7, 6])\n",
    "tsr2 = torch.arange(50)"
   ]
  },
  {
   "cell_type": "code",
   "execution_count": 30,
   "metadata": {},
   "outputs": [],
   "source": [
    "t2 = batchify(tsr, 4)"
   ]
  },
  {
   "cell_type": "code",
   "execution_count": 31,
   "metadata": {},
   "outputs": [
    {
     "data": {
      "text/plain": [
       "tensor([[1, 5, 2, 8],\n",
       "        [2, 4, 9, 7],\n",
       "        [4, 3, 3, 6]])"
      ]
     },
     "execution_count": 31,
     "metadata": {},
     "output_type": "execute_result"
    }
   ],
   "source": [
    "t2"
   ]
  },
  {
   "cell_type": "code",
   "execution_count": 52,
   "metadata": {},
   "outputs": [
    {
     "data": {
      "text/plain": [
       "tensor([ 0,  1,  2,  3,  4,  5,  6,  7,  8,  9, 10, 11, 12, 13, 14, 15, 16, 17,\n",
       "        18, 19, 20, 21, 22, 23, 24, 25, 26, 27, 28, 29, 30, 31, 32, 33, 34, 35,\n",
       "        36, 37, 38, 39, 40, 41, 42, 43, 44, 45, 46, 47, 48, 49])"
      ]
     },
     "execution_count": 52,
     "metadata": {},
     "output_type": "execute_result"
    }
   ],
   "source": [
    "tsr2"
   ]
  },
  {
   "cell_type": "code",
   "execution_count": 53,
   "metadata": {},
   "outputs": [],
   "source": [
    "t3 = batchify(tsr2, 4)"
   ]
  },
  {
   "cell_type": "code",
   "execution_count": 54,
   "metadata": {},
   "outputs": [
    {
     "data": {
      "text/plain": [
       "tensor([2, 4, 9, 7])"
      ]
     },
     "execution_count": 54,
     "metadata": {},
     "output_type": "execute_result"
    }
   ],
   "source": [
    "t2[1] #didn't realize this style of indexing worked."
   ]
  },
  {
   "cell_type": "code",
   "execution_count": 55,
   "metadata": {},
   "outputs": [
    {
     "data": {
      "text/plain": [
       "(tensor([[2, 4, 9, 7]]), tensor([[4, 3, 3, 6]]))"
      ]
     },
     "execution_count": 55,
     "metadata": {},
     "output_type": "execute_result"
    }
   ],
   "source": [
    "get_batch(t2, 1)"
   ]
  },
  {
   "cell_type": "code",
   "execution_count": 56,
   "metadata": {},
   "outputs": [
    {
     "data": {
      "text/plain": [
       "12"
      ]
     },
     "execution_count": 56,
     "metadata": {},
     "output_type": "execute_result"
    }
   ],
   "source": [
    "len(t3)"
   ]
  },
  {
   "cell_type": "code",
   "execution_count": 57,
   "metadata": {},
   "outputs": [
    {
     "data": {
      "text/plain": [
       "(tensor([[ 1, 13, 25, 37],\n",
       "         [ 2, 14, 26, 38],\n",
       "         [ 3, 15, 27, 39],\n",
       "         [ 4, 16, 28, 40],\n",
       "         [ 5, 17, 29, 41],\n",
       "         [ 6, 18, 30, 42],\n",
       "         [ 7, 19, 31, 43],\n",
       "         [ 8, 20, 32, 44],\n",
       "         [ 9, 21, 33, 45],\n",
       "         [10, 22, 34, 46]]), tensor([[ 2, 14, 26, 38],\n",
       "         [ 3, 15, 27, 39],\n",
       "         [ 4, 16, 28, 40],\n",
       "         [ 5, 17, 29, 41],\n",
       "         [ 6, 18, 30, 42],\n",
       "         [ 7, 19, 31, 43],\n",
       "         [ 8, 20, 32, 44],\n",
       "         [ 9, 21, 33, 45],\n",
       "         [10, 22, 34, 46],\n",
       "         [11, 23, 35, 47]]))"
      ]
     },
     "execution_count": 57,
     "metadata": {},
     "output_type": "execute_result"
    }
   ],
   "source": [
    "get_batch(t3,1)"
   ]
  },
  {
   "cell_type": "code",
   "execution_count": null,
   "metadata": {},
   "outputs": [],
   "source": []
  }
 ],
 "metadata": {
  "kernelspec": {
   "display_name": "Python 3",
   "language": "python",
   "name": "python3"
  },
  "language_info": {
   "codemirror_mode": {
    "name": "ipython",
    "version": 3
   },
   "file_extension": ".py",
   "mimetype": "text/x-python",
   "name": "python",
   "nbconvert_exporter": "python",
   "pygments_lexer": "ipython3",
   "version": "3.6.9"
  }
 },
 "nbformat": 4,
 "nbformat_minor": 2
}
